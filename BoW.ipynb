{
  "nbformat": 4,
  "nbformat_minor": 0,
  "metadata": {
    "colab": {
      "name": "BoW.ipynb",
      "provenance": [],
      "collapsed_sections": []
    },
    "kernelspec": {
      "name": "python3",
      "display_name": "Python 3"
    },
    "language_info": {
      "name": "python"
    }
  },
  "cells": [
    {
      "cell_type": "markdown",
      "metadata": {
        "id": "-FxuQ2bRicOO"
      },
      "source": [
        "### Corpus"
      ]
    },
    {
      "cell_type": "code",
      "metadata": {
        "id": "aJFBnX8jiNW9"
      },
      "source": [
        "corpus = [\n",
        "          \"me gusta esta pelicula\",\n",
        "          \"no me gusta que me toquen\",\n",
        "          \"que no le gusta a nadie\"]"
      ],
      "execution_count": 1,
      "outputs": []
    },
    {
      "cell_type": "code",
      "metadata": {
        "id": "7MHL4MYi6Sjn"
      },
      "source": [
        "frase1 = corpus[0].split()\n",
        "frase2 = corpus[1].split()\n",
        "frase3 = corpus[2].split()\n",
        "frase1 = frase1[:10]\n",
        "frase2 = frase2[:10]\n",
        "frase3 = frase3[:10]\n",
        "salidaf1 = []\n",
        "salidaf2 = []\n",
        "salidaf3 = []"
      ],
      "execution_count": 2,
      "outputs": []
    },
    {
      "cell_type": "code",
      "metadata": {
        "colab": {
          "base_uri": "https://localhost:8080/"
        },
        "id": "Fcynj4gA2wLi",
        "outputId": "cbcd4f12-767f-4e9c-9252-ea0c1c8ce91b"
      },
      "source": [
        "diccionario = ['a','esta','gusta','le','me','nadie','no','pelicula','que','toquen']\n",
        "for t in diccionario:\n",
        "  salidaf1.append(frase1.count(t))\n",
        "  salidaf2.append(frase2.count(t))\n",
        "  salidaf3.append(frase3.count(t))\n",
        "\n",
        "salidaf1 = salidaf1[:10]\n",
        "print(salidaf1)\n",
        "salidaf2 = salidaf2[:10]\n",
        "print(salidaf2)\n",
        "salidaf3 = salidaf3[:10]\n",
        "print(salidaf3)"
      ],
      "execution_count": 3,
      "outputs": [
        {
          "output_type": "stream",
          "name": "stdout",
          "text": [
            "[0, 1, 1, 0, 1, 0, 0, 1, 0, 0]\n",
            "[0, 0, 1, 0, 2, 0, 1, 0, 1, 1]\n",
            "[1, 0, 1, 1, 0, 1, 1, 0, 1, 0]\n"
          ]
        }
      ]
    },
    {
      "cell_type": "code",
      "metadata": {
        "id": "VWveGyzvkxmM"
      },
      "source": [
        "salida = [\n",
        "          [0, 1,\t1,\t0,\t1,\t0,\t0,\t1,\t0,\t0],\n",
        "          [0,\t0,\t1,\t0,\t2,\t0,\t1,\t0,\t1,\t1],\n",
        "          [1,\t0,\t1,\t1,\t0,\t1,  1,\t0,\t1,\t0]\n",
        "]"
      ],
      "execution_count": 4,
      "outputs": []
    },
    {
      "cell_type": "code",
      "metadata": {
        "id": "BDtie5jWlJfK"
      },
      "source": [
        "#### Implementación\n",
        "respuesta = []\n",
        "### agrego las 3 listas separadas a la lista \"respuesta\", que seria la version final\n",
        "respuesta.append(salidaf1)\n",
        "respuesta.append(salidaf2) \n",
        "respuesta.append(salidaf3)\n",
        "### Empieza la implementación\n",
        "#### Termina su solución"
      ],
      "execution_count": 5,
      "outputs": []
    },
    {
      "cell_type": "code",
      "metadata": {
        "id": "K0YTxGddlBUB",
        "colab": {
          "base_uri": "https://localhost:8080/"
        },
        "outputId": "731661e3-fa51-47f3-a0d3-e69be5051cd8"
      },
      "source": [
        "#### comprobamos que la vectorización default y el resultado final sean iguales\n",
        "if respuesta == salida:\n",
        "  print(\"Respuesta correcta\")\n",
        "else:\n",
        "  print(\"Respuesta incorrecta\")"
      ],
      "execution_count": 6,
      "outputs": [
        {
          "output_type": "stream",
          "name": "stdout",
          "text": [
            "Respuesta correcta\n"
          ]
        }
      ]
    },
    {
      "cell_type": "code",
      "metadata": {
        "colab": {
          "base_uri": "https://localhost:8080/"
        },
        "id": "84q0FR5yiWJb",
        "outputId": "6f75f09d-62c1-4426-96d8-2a598e9de03b"
      },
      "source": [
        "for frase in corpus:\n",
        "  print(frase)"
      ],
      "execution_count": 7,
      "outputs": [
        {
          "output_type": "stream",
          "name": "stdout",
          "text": [
            "me gusta esta pelicula\n",
            "no me gusta que me toquen\n",
            "que no le gusta a nadie\n"
          ]
        }
      ]
    }
  ]
}